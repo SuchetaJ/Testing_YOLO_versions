{
  "cells": [
    {
      "cell_type": "code",
      "execution_count": null,
      "metadata": {
        "colab": {
          "base_uri": "https://localhost:8080/"
        },
        "id": "fFF50jfpVoCA",
        "outputId": "6ffc3b2e-1a7f-4658-ea21-272d0cec2a4f"
      },
      "outputs": [
        {
          "name": "stdout",
          "output_type": "stream",
          "text": [
            "Mounted at /content/gdrive\n",
            "/content/gdrive/MyDrive\n"
          ]
        }
      ],
      "source": [
        "# mount Google Drive\n",
        "from google.colab import drive\n",
        "drive.mount('/content/gdrive')\n",
        "%cd gdrive/MyDrive"
      ]
    },
    {
      "cell_type": "code",
      "execution_count": null,
      "metadata": {
        "id": "GfWUR3rKV2lF"
      },
      "outputs": [],
      "source": [
        "#importing all the required libraries\n",
        "import matplotlib.pyplot as plt\n",
        "import numpy as np\n",
        "import os\n",
        "import random\n",
        "import time\n",
        "import torch\n",
        "import cv2"
      ]
    },
    {
      "cell_type": "code",
      "execution_count": null,
      "metadata": {
        "colab": {
          "base_uri": "https://localhost:8080/"
        },
        "id": "e7N3ihD1V3B5",
        "outputId": "bf2c174f-b1c3-4e8a-a896-309c3b612d85"
      },
      "outputs": [
        {
          "data": {
            "text/plain": [
              "24"
            ]
          },
          "execution_count": 3,
          "metadata": {},
          "output_type": "execute_result"
        }
      ],
      "source": [
        "#loading the images \n",
        "\n",
        "list_img = os.listdir(\"yolov7/open_image\")\n",
        "\n",
        "len(list_img)"
      ]
    },
    {
      "cell_type": "code",
      "execution_count": null,
      "metadata": {
        "colab": {
          "base_uri": "https://localhost:8080/"
        },
        "id": "oueXxDUtV9Yg",
        "outputId": "fa2f7ab1-f740-441e-e64d-a58b522bf5e2"
      },
      "outputs": [
        {
          "name": "stdout",
          "output_type": "stream",
          "text": [
            "Looking in indexes: https://pypi.org/simple, https://us-python.pkg.dev/colab-wheels/public/simple/\n",
            "Collecting ultralytics\n",
            "  Downloading ultralytics-8.0.18-py3-none-any.whl (259 kB)\n",
            "\u001b[2K     \u001b[90m━━━━━━━━━━━━━━━━━━━━━━━━━━━━━━━━━━━━━━\u001b[0m \u001b[32m259.3/259.3 KB\u001b[0m \u001b[31m12.3 MB/s\u001b[0m eta \u001b[36m0:00:00\u001b[0m\n",
            "\u001b[?25hRequirement already satisfied: requests>=2.23.0 in /usr/local/lib/python3.8/dist-packages (from ultralytics) (2.25.1)\n",
            "Requirement already satisfied: pandas>=1.1.4 in /usr/local/lib/python3.8/dist-packages (from ultralytics) (1.3.5)\n",
            "Requirement already satisfied: seaborn>=0.11.0 in /usr/local/lib/python3.8/dist-packages (from ultralytics) (0.11.2)\n",
            "Collecting sentry-sdk\n",
            "  Downloading sentry_sdk-1.14.0-py2.py3-none-any.whl (178 kB)\n",
            "\u001b[2K     \u001b[90m━━━━━━━━━━━━━━━━━━━━━━━━━━━━━━━━━━━━━━\u001b[0m \u001b[32m178.9/178.9 KB\u001b[0m \u001b[31m19.1 MB/s\u001b[0m eta \u001b[36m0:00:00\u001b[0m\n",
            "\u001b[?25hRequirement already satisfied: tqdm>=4.64.0 in /usr/local/lib/python3.8/dist-packages (from ultralytics) (4.64.1)\n",
            "Requirement already satisfied: Pillow>=7.1.2 in /usr/local/lib/python3.8/dist-packages (from ultralytics) (7.1.2)\n",
            "Requirement already satisfied: ipython in /usr/local/lib/python3.8/dist-packages (from ultralytics) (7.9.0)\n",
            "Requirement already satisfied: psutil in /usr/local/lib/python3.8/dist-packages (from ultralytics) (5.4.8)\n",
            "Requirement already satisfied: PyYAML>=5.3.1 in /usr/local/lib/python3.8/dist-packages (from ultralytics) (6.0)\n",
            "Requirement already satisfied: torchvision>=0.8.1 in /usr/local/lib/python3.8/dist-packages (from ultralytics) (0.14.1+cu116)\n",
            "Requirement already satisfied: numpy>=1.18.5 in /usr/local/lib/python3.8/dist-packages (from ultralytics) (1.21.6)\n",
            "Requirement already satisfied: tensorboard>=2.4.1 in /usr/local/lib/python3.8/dist-packages (from ultralytics) (2.9.1)\n",
            "Collecting thop>=0.1.1\n",
            "  Downloading thop-0.1.1.post2209072238-py3-none-any.whl (15 kB)\n",
            "Requirement already satisfied: scipy>=1.4.1 in /usr/local/lib/python3.8/dist-packages (from ultralytics) (1.7.3)\n",
            "Requirement already satisfied: matplotlib>=3.2.2 in /usr/local/lib/python3.8/dist-packages (from ultralytics) (3.2.2)\n",
            "Requirement already satisfied: opencv-python>=4.6.0 in /usr/local/lib/python3.8/dist-packages (from ultralytics) (4.6.0.66)\n",
            "Requirement already satisfied: torch>=1.7.0 in /usr/local/lib/python3.8/dist-packages (from ultralytics) (1.13.1+cu116)\n",
            "Requirement already satisfied: python-dateutil>=2.1 in /usr/local/lib/python3.8/dist-packages (from matplotlib>=3.2.2->ultralytics) (2.8.2)\n",
            "Requirement already satisfied: pyparsing!=2.0.4,!=2.1.2,!=2.1.6,>=2.0.1 in /usr/local/lib/python3.8/dist-packages (from matplotlib>=3.2.2->ultralytics) (3.0.9)\n",
            "Requirement already satisfied: kiwisolver>=1.0.1 in /usr/local/lib/python3.8/dist-packages (from matplotlib>=3.2.2->ultralytics) (1.4.4)\n",
            "Requirement already satisfied: cycler>=0.10 in /usr/local/lib/python3.8/dist-packages (from matplotlib>=3.2.2->ultralytics) (0.11.0)\n",
            "Requirement already satisfied: pytz>=2017.3 in /usr/local/lib/python3.8/dist-packages (from pandas>=1.1.4->ultralytics) (2022.7)\n",
            "Requirement already satisfied: certifi>=2017.4.17 in /usr/local/lib/python3.8/dist-packages (from requests>=2.23.0->ultralytics) (2022.12.7)\n",
            "Requirement already satisfied: urllib3<1.27,>=1.21.1 in /usr/local/lib/python3.8/dist-packages (from requests>=2.23.0->ultralytics) (1.24.3)\n",
            "Requirement already satisfied: idna<3,>=2.5 in /usr/local/lib/python3.8/dist-packages (from requests>=2.23.0->ultralytics) (2.10)\n",
            "Requirement already satisfied: chardet<5,>=3.0.2 in /usr/local/lib/python3.8/dist-packages (from requests>=2.23.0->ultralytics) (4.0.0)\n",
            "Requirement already satisfied: google-auth-oauthlib<0.5,>=0.4.1 in /usr/local/lib/python3.8/dist-packages (from tensorboard>=2.4.1->ultralytics) (0.4.6)\n",
            "Requirement already satisfied: wheel>=0.26 in /usr/local/lib/python3.8/dist-packages (from tensorboard>=2.4.1->ultralytics) (0.38.4)\n",
            "Requirement already satisfied: tensorboard-plugin-wit>=1.6.0 in /usr/local/lib/python3.8/dist-packages (from tensorboard>=2.4.1->ultralytics) (1.8.1)\n",
            "Requirement already satisfied: markdown>=2.6.8 in /usr/local/lib/python3.8/dist-packages (from tensorboard>=2.4.1->ultralytics) (3.4.1)\n",
            "Requirement already satisfied: setuptools>=41.0.0 in /usr/local/lib/python3.8/dist-packages (from tensorboard>=2.4.1->ultralytics) (57.4.0)\n",
            "Requirement already satisfied: absl-py>=0.4 in /usr/local/lib/python3.8/dist-packages (from tensorboard>=2.4.1->ultralytics) (1.3.0)\n",
            "Requirement already satisfied: tensorboard-data-server<0.7.0,>=0.6.0 in /usr/local/lib/python3.8/dist-packages (from tensorboard>=2.4.1->ultralytics) (0.6.1)\n",
            "Requirement already satisfied: google-auth<3,>=1.6.3 in /usr/local/lib/python3.8/dist-packages (from tensorboard>=2.4.1->ultralytics) (2.16.0)\n",
            "Requirement already satisfied: protobuf<3.20,>=3.9.2 in /usr/local/lib/python3.8/dist-packages (from tensorboard>=2.4.1->ultralytics) (3.19.6)\n",
            "Requirement already satisfied: werkzeug>=1.0.1 in /usr/local/lib/python3.8/dist-packages (from tensorboard>=2.4.1->ultralytics) (1.0.1)\n",
            "Requirement already satisfied: grpcio>=1.24.3 in /usr/local/lib/python3.8/dist-packages (from tensorboard>=2.4.1->ultralytics) (1.51.1)\n",
            "Requirement already satisfied: typing-extensions in /usr/local/lib/python3.8/dist-packages (from torch>=1.7.0->ultralytics) (4.4.0)\n",
            "Requirement already satisfied: prompt-toolkit<2.1.0,>=2.0.0 in /usr/local/lib/python3.8/dist-packages (from ipython->ultralytics) (2.0.10)\n",
            "Requirement already satisfied: decorator in /usr/local/lib/python3.8/dist-packages (from ipython->ultralytics) (4.4.2)\n",
            "Requirement already satisfied: backcall in /usr/local/lib/python3.8/dist-packages (from ipython->ultralytics) (0.2.0)\n",
            "Requirement already satisfied: traitlets>=4.2 in /usr/local/lib/python3.8/dist-packages (from ipython->ultralytics) (5.7.1)\n",
            "Requirement already satisfied: pickleshare in /usr/local/lib/python3.8/dist-packages (from ipython->ultralytics) (0.7.5)\n",
            "Requirement already satisfied: pygments in /usr/local/lib/python3.8/dist-packages (from ipython->ultralytics) (2.6.1)\n",
            "Requirement already satisfied: pexpect in /usr/local/lib/python3.8/dist-packages (from ipython->ultralytics) (4.8.0)\n",
            "Collecting jedi>=0.10\n",
            "  Downloading jedi-0.18.2-py2.py3-none-any.whl (1.6 MB)\n",
            "\u001b[2K     \u001b[90m━━━━━━━━━━━━━━━━━━━━━━━━━━━━━━━━━━━━━━━━\u001b[0m \u001b[32m1.6/1.6 MB\u001b[0m \u001b[31m77.8 MB/s\u001b[0m eta \u001b[36m0:00:00\u001b[0m\n",
            "\u001b[?25hCollecting urllib3<1.27,>=1.21.1\n",
            "  Downloading urllib3-1.26.14-py2.py3-none-any.whl (140 kB)\n",
            "\u001b[2K     \u001b[90m━━━━━━━━━━━━━━━━━━━━━━━━━━━━━━━━━━━━━━\u001b[0m \u001b[32m140.6/140.6 KB\u001b[0m \u001b[31m18.5 MB/s\u001b[0m eta \u001b[36m0:00:00\u001b[0m\n",
            "\u001b[?25hRequirement already satisfied: pyasn1-modules>=0.2.1 in /usr/local/lib/python3.8/dist-packages (from google-auth<3,>=1.6.3->tensorboard>=2.4.1->ultralytics) (0.2.8)\n",
            "Requirement already satisfied: rsa<5,>=3.1.4 in /usr/local/lib/python3.8/dist-packages (from google-auth<3,>=1.6.3->tensorboard>=2.4.1->ultralytics) (4.9)\n",
            "Requirement already satisfied: cachetools<6.0,>=2.0.0 in /usr/local/lib/python3.8/dist-packages (from google-auth<3,>=1.6.3->tensorboard>=2.4.1->ultralytics) (5.2.1)\n",
            "Requirement already satisfied: six>=1.9.0 in /usr/local/lib/python3.8/dist-packages (from google-auth<3,>=1.6.3->tensorboard>=2.4.1->ultralytics) (1.15.0)\n",
            "Requirement already satisfied: requests-oauthlib>=0.7.0 in /usr/local/lib/python3.8/dist-packages (from google-auth-oauthlib<0.5,>=0.4.1->tensorboard>=2.4.1->ultralytics) (1.3.1)\n",
            "Requirement already satisfied: parso<0.9.0,>=0.8.0 in /usr/local/lib/python3.8/dist-packages (from jedi>=0.10->ipython->ultralytics) (0.8.3)\n",
            "Requirement already satisfied: importlib-metadata>=4.4 in /usr/local/lib/python3.8/dist-packages (from markdown>=2.6.8->tensorboard>=2.4.1->ultralytics) (6.0.0)\n",
            "Requirement already satisfied: wcwidth in /usr/local/lib/python3.8/dist-packages (from prompt-toolkit<2.1.0,>=2.0.0->ipython->ultralytics) (0.2.5)\n",
            "Requirement already satisfied: ptyprocess>=0.5 in /usr/local/lib/python3.8/dist-packages (from pexpect->ipython->ultralytics) (0.7.0)\n",
            "Requirement already satisfied: zipp>=0.5 in /usr/local/lib/python3.8/dist-packages (from importlib-metadata>=4.4->markdown>=2.6.8->tensorboard>=2.4.1->ultralytics) (3.11.0)\n",
            "Requirement already satisfied: pyasn1<0.5.0,>=0.4.6 in /usr/local/lib/python3.8/dist-packages (from pyasn1-modules>=0.2.1->google-auth<3,>=1.6.3->tensorboard>=2.4.1->ultralytics) (0.4.8)\n",
            "Requirement already satisfied: oauthlib>=3.0.0 in /usr/local/lib/python3.8/dist-packages (from requests-oauthlib>=0.7.0->google-auth-oauthlib<0.5,>=0.4.1->tensorboard>=2.4.1->ultralytics) (3.2.2)\n",
            "Installing collected packages: urllib3, jedi, thop, sentry-sdk, ultralytics\n",
            "  Attempting uninstall: urllib3\n",
            "    Found existing installation: urllib3 1.24.3\n",
            "    Uninstalling urllib3-1.24.3:\n",
            "      Successfully uninstalled urllib3-1.24.3\n",
            "Successfully installed jedi-0.18.2 sentry-sdk-1.14.0 thop-0.1.1.post2209072238 ultralytics-8.0.18 urllib3-1.26.14\n"
          ]
        }
      ],
      "source": [
        "# Pip install method (recommended)\n",
        "%pip install ultralytics"
      ]
    },
    {
      "cell_type": "code",
      "execution_count": null,
      "metadata": {
        "id": "WJWQCjRVeWHh"
      },
      "outputs": [],
      "source": [
        "from ultralytics import YOLO\n"
      ]
    },
    {
      "cell_type": "code",
      "execution_count": null,
      "metadata": {
        "colab": {
          "base_uri": "https://localhost:8080/",
          "height": 84,
          "referenced_widgets": [
            "a74473d1b3224709a0750d09dd85c423",
            "c862e86222ae4c92b8e3d5c133c6985f",
            "3e974f3fe71c4068a36c59ec3a91f29c",
            "68a058d0d68946d3b07c554bc685f39e",
            "ea0b72bc56664efea0c1239c49a24a7e",
            "cb9d2c395a1c4b239ccf8741fec4fcc0",
            "975499915fee45f4ba8abbc05bcee347",
            "641b60bc6bdf4eb48b7863d87db170fc",
            "9dc475006f5443b18a519f3f21fd9de9",
            "176e634ae7794398af87a0940ecb1a82",
            "61540ebdd2884edaae6d57f732e2f1f0"
          ]
        },
        "id": "AsasophOfqDW",
        "outputId": "fb83ddf7-73b1-4661-9999-ca67185c034d"
      },
      "outputs": [
        {
          "name": "stderr",
          "output_type": "stream",
          "text": [
            "Downloading https://github.com/ultralytics/assets/releases/download/v0.0.0/yolov8m.pt to yolov8m.pt...\n"
          ]
        },
        {
          "data": {
            "application/vnd.jupyter.widget-view+json": {
              "model_id": "a74473d1b3224709a0750d09dd85c423",
              "version_major": 2,
              "version_minor": 0
            },
            "text/plain": [
              "  0%|          | 0.00/49.7M [00:00<?, ?B/s]"
            ]
          },
          "metadata": {},
          "output_type": "display_data"
        },
        {
          "name": "stderr",
          "output_type": "stream",
          "text": [
            "\n"
          ]
        }
      ],
      "source": [
        "modelv8 = YOLO(\"yolov8m.pt\")"
      ]
    },
    {
      "cell_type": "code",
      "execution_count": null,
      "metadata": {
        "id": "qep0TWIHfKi1"
      },
      "outputs": [],
      "source": [
        "for i in range(len(list_img)):\n",
        "  list_img[i]='yolov7/open_image/'+ list_img[i]"
      ]
    },
    {
      "cell_type": "code",
      "execution_count": null,
      "metadata": {
        "id": "CGusxqiXgCuC"
      },
      "outputs": [],
      "source": [
        "np_img = []\n",
        "for i in range(len(list_img)):\n",
        "  np_img.append(cv2.imread(list_img[i]))\n",
        "\n",
        "np_img_copy = np_img[:]\n"
      ]
    },
    {
      "cell_type": "code",
      "execution_count": null,
      "metadata": {
        "colab": {
          "base_uri": "https://localhost:8080/"
        },
        "id": "A2zbNaPmju0A",
        "outputId": "df021ef2-1a5b-4f8f-dca1-747b4bcbf38d"
      },
      "outputs": [
        {
          "name": "stderr",
          "output_type": "stream",
          "text": [
            "Ultralytics YOLOv8.0.18 🚀 Python-3.8.10 torch-1.13.1+cu116 CPU\n",
            "YOLOv8m summary (fused): 218 layers, 25886080 parameters, 0 gradients, 78.9 GFLOPs\n"
          ]
        },
        {
          "name": "stdout",
          "output_type": "stream",
          "text": [
            "CPU times: user 27.7 s, sys: 683 ms, total: 28.4 s\n",
            "Wall time: 29.9 s\n"
          ]
        }
      ],
      "source": [
        "%%time\n",
        "results = modelv8.predict(np_img)"
      ]
    },
    {
      "cell_type": "code",
      "execution_count": null,
      "metadata": {
        "colab": {
          "base_uri": "https://localhost:8080/"
        },
        "id": "BdrxyJxEPYBr",
        "outputId": "25e4b269-a0a4-4c13-d7a8-c34a1ec82035"
      },
      "outputs": [
        {
          "data": {
            "text/plain": [
              "list"
            ]
          },
          "execution_count": 10,
          "metadata": {},
          "output_type": "execute_result"
        }
      ],
      "source": [
        "type(results)"
      ]
    },
    {
      "cell_type": "code",
      "execution_count": null,
      "metadata": {
        "colab": {
          "base_uri": "https://localhost:8080/"
        },
        "id": "zE_T87h6PbNt",
        "outputId": "21a80324-2fc8-4d9b-eb7a-b297a0e78b15"
      },
      "outputs": [
        {
          "data": {
            "text/plain": [
              "[Ultralytics YOLO <class 'ultralytics.yolo.engine.results.Boxes'> masks\n",
              " type: <class 'torch.Tensor'>\n",
              " shape: torch.Size([9, 6])\n",
              " dtype: torch.float32\n",
              "  + tensor([[5.85000e+02, 2.94000e+02, 7.00000e+02, 4.08000e+02, 8.88591e-01, 0.00000e+00],\n",
              "         [4.60000e+02, 2.68000e+02, 5.47000e+02, 5.60000e+02, 8.59559e-01, 0.00000e+00],\n",
              "         [8.75000e+02, 1.98000e+02, 9.70000e+02, 5.45000e+02, 8.53289e-01, 0.00000e+00],\n",
              "         [7.66000e+02, 2.57000e+02, 8.76000e+02, 6.09000e+02, 8.42601e-01, 0.00000e+00],\n",
              "         [1.00000e+00, 8.00000e+01, 6.71000e+02, 5.93000e+02, 6.91296e-01, 7.00000e+00],\n",
              "         [7.32000e+02, 1.45000e+02, 1.01100e+03, 4.08000e+02, 6.70281e-01, 7.00000e+00],\n",
              "         [8.21000e+02, 2.47000e+02, 8.77000e+02, 3.54000e+02, 4.92724e-01, 0.00000e+00],\n",
              "         [8.19000e+02, 3.39000e+02, 8.81000e+02, 4.51000e+02, 4.23147e-01, 2.60000e+01],\n",
              "         [6.21000e+02, 4.39000e+02, 6.99000e+02, 5.53000e+02, 2.52807e-01, 2.40000e+01]]),\n",
              " Ultralytics YOLO <class 'ultralytics.yolo.engine.results.Boxes'> masks\n",
              " type: <class 'torch.Tensor'>\n",
              " shape: torch.Size([18, 6])\n",
              " dtype: torch.float32\n",
              "  + tensor([[2.83000e+02, 4.17000e+02, 5.34000e+02, 6.79000e+02, 9.13485e-01, 0.00000e+00],\n",
              "         [1.50000e+02, 3.72000e+02, 3.38000e+02, 6.36000e+02, 8.96964e-01, 0.00000e+00],\n",
              "         [1.00000e+01, 3.36000e+02, 1.80000e+02, 5.87000e+02, 7.16999e-01, 0.00000e+00],\n",
              "         [5.70000e+02, 4.09000e+02, 8.30000e+02, 6.77000e+02, 6.99070e-01, 0.00000e+00],\n",
              "         [6.28000e+02, 3.33000e+02, 7.76000e+02, 5.13000e+02, 6.93105e-01, 0.00000e+00],\n",
              "         [0.00000e+00, 3.37000e+02, 7.30000e+01, 5.03000e+02, 6.78568e-01, 0.00000e+00],\n",
              "         [4.20000e+02, 3.20000e+02, 5.09000e+02, 4.26000e+02, 6.76894e-01, 0.00000e+00],\n",
              "         [3.02000e+02, 4.02000e+02, 3.89000e+02, 5.16000e+02, 6.52232e-01, 5.60000e+01],\n",
              "         [3.46000e+02, 3.11000e+02, 4.36000e+02, 4.20000e+02, 6.02261e-01, 0.00000e+00],\n",
              "         [4.46000e+02, 1.60000e+02, 6.09000e+02, 2.89000e+02, 5.77711e-01, 6.20000e+01],\n",
              "         [2.24000e+02, 3.05000e+02, 3.27000e+02, 4.08000e+02, 5.62753e-01, 0.00000e+00],\n",
              "         [1.92000e+02, 3.38000e+02, 2.46000e+02, 3.82000e+02, 5.62303e-01, 5.60000e+01],\n",
              "         [4.64000e+02, 3.71000e+02, 6.15000e+02, 5.59000e+02, 4.79543e-01, 0.00000e+00],\n",
              "         [4.81000e+02, 2.25000e+02, 5.27000e+02, 3.60000e+02, 4.64390e-01, 0.00000e+00],\n",
              "         [0.00000e+00, 5.35000e+02, 1.52000e+02, 6.78000e+02, 4.55135e-01, 5.60000e+01],\n",
              "         [0.00000e+00, 5.00000e+02, 2.40000e+01, 5.71000e+02, 3.60993e-01, 5.60000e+01],\n",
              "         [5.07000e+02, 3.24000e+02, 6.21000e+02, 4.36000e+02, 3.11292e-01, 0.00000e+00],\n",
              "         [1.06000e+02, 2.83000e+02, 1.57000e+02, 3.38000e+02, 2.86994e-01, 0.00000e+00]]),\n",
              " Ultralytics YOLO <class 'ultralytics.yolo.engine.results.Boxes'> masks\n",
              " type: <class 'torch.Tensor'>\n",
              " shape: torch.Size([13, 6])\n",
              " dtype: torch.float32\n",
              "  + tensor([[2.20000e+01, 1.47000e+02, 1.66000e+02, 5.39000e+02, 9.27705e-01, 0.00000e+00],\n",
              "         [1.82000e+02, 1.31000e+02, 7.90000e+02, 5.55000e+02, 8.48712e-01, 0.00000e+00],\n",
              "         [8.71000e+02, 2.74000e+02, 1.02400e+03, 4.70000e+02, 8.08131e-01, 0.00000e+00],\n",
              "         [6.40000e+02, 3.61000e+02, 7.12000e+02, 4.51000e+02, 6.70078e-01, 0.00000e+00],\n",
              "         [7.38000e+02, 3.52000e+02, 8.28000e+02, 4.52000e+02, 5.52746e-01, 0.00000e+00],\n",
              "         [0.00000e+00, 3.60000e+02, 5.10000e+01, 4.55000e+02, 5.26692e-01, 0.00000e+00],\n",
              "         [8.26000e+02, 3.22000e+02, 9.15000e+02, 4.43000e+02, 5.17705e-01, 0.00000e+00],\n",
              "         [5.90000e+02, 3.66000e+02, 6.48000e+02, 4.51000e+02, 5.12873e-01, 0.00000e+00],\n",
              "         [8.05000e+02, 4.70000e+02, 1.01500e+03, 5.69000e+02, 4.96128e-01, 2.80000e+01],\n",
              "         [6.97000e+02, 3.44000e+02, 7.38000e+02, 4.34000e+02, 3.91566e-01, 0.00000e+00],\n",
              "         [4.89000e+02, 3.52000e+02, 5.87000e+02, 4.40000e+02, 3.45564e-01, 0.00000e+00],\n",
              "         [2.93000e+02, 3.73000e+02, 3.41000e+02, 4.26000e+02, 3.13420e-01, 0.00000e+00],\n",
              "         [7.19000e+02, 3.58000e+02, 7.69000e+02, 4.46000e+02, 2.52943e-01, 0.00000e+00]]),\n",
              " Ultralytics YOLO <class 'ultralytics.yolo.engine.results.Boxes'> masks\n",
              " type: <class 'torch.Tensor'>\n",
              " shape: torch.Size([6, 6])\n",
              " dtype: torch.float32\n",
              "  + tensor([[2.14000e+02, 5.60000e+01, 9.26000e+02, 6.97000e+02, 9.53391e-01, 0.00000e+00],\n",
              "         [2.12000e+02, 5.50000e+02, 4.94000e+02, 6.99000e+02, 8.82498e-01, 5.60000e+01],\n",
              "         [6.30000e+01, 6.33000e+02, 2.60000e+02, 7.04000e+02, 7.16102e-01, 5.60000e+01],\n",
              "         [1.01300e+03, 5.86000e+02, 1.02400e+03, 6.88000e+02, 4.35444e-01, 4.10000e+01],\n",
              "         [5.52000e+02, 6.02000e+02, 5.72000e+02, 6.20000e+02, 3.41489e-01, 7.40000e+01],\n",
              "         [5.17000e+02, 2.93000e+02, 6.73000e+02, 4.95000e+02, 2.74074e-01, 6.70000e+01]]),\n",
              " Ultralytics YOLO <class 'ultralytics.yolo.engine.results.Boxes'> masks\n",
              " type: <class 'torch.Tensor'>\n",
              " shape: torch.Size([2, 6])\n",
              " dtype: torch.float32\n",
              "  + tensor([[1.21000e+02, 2.21000e+02, 8.93000e+02, 5.86000e+02, 9.28338e-01, 7.00000e+00],\n",
              "         [0.00000e+00, 4.60000e+02, 2.80000e+01, 5.10000e+02, 8.62354e-01, 1.00000e+01]]),\n",
              " Ultralytics YOLO <class 'ultralytics.yolo.engine.results.Boxes'> masks\n",
              " type: <class 'torch.Tensor'>\n",
              " shape: torch.Size([1, 6])\n",
              " dtype: torch.float32\n",
              "  + tensor([[3.05000e+02, 1.97000e+02, 8.66000e+02, 6.21000e+02, 6.39666e-01, 1.40000e+01]]),\n",
              " Ultralytics YOLO <class 'ultralytics.yolo.engine.results.Boxes'> masks\n",
              " type: <class 'torch.Tensor'>\n",
              " shape: torch.Size([0, 6])\n",
              " dtype: torch.float32\n",
              "  + tensor([], size=(0, 6)),\n",
              " Ultralytics YOLO <class 'ultralytics.yolo.engine.results.Boxes'> masks\n",
              " type: <class 'torch.Tensor'>\n",
              " shape: torch.Size([0, 6])\n",
              " dtype: torch.float32\n",
              "  + tensor([], size=(0, 6)),\n",
              " Ultralytics YOLO <class 'ultralytics.yolo.engine.results.Boxes'> masks\n",
              " type: <class 'torch.Tensor'>\n",
              " shape: torch.Size([0, 6])\n",
              " dtype: torch.float32\n",
              "  + tensor([], size=(0, 6)),\n",
              " Ultralytics YOLO <class 'ultralytics.yolo.engine.results.Boxes'> masks\n",
              " type: <class 'torch.Tensor'>\n",
              " shape: torch.Size([5, 6])\n",
              " dtype: torch.float32\n",
              "  + tensor([[4.10000e+01, 3.03000e+02, 5.96000e+02, 1.02300e+03, 8.73359e-01, 0.00000e+00],\n",
              "         [2.47000e+02, 4.98000e+02, 2.98000e+02, 6.35000e+02, 8.05741e-01, 2.70000e+01],\n",
              "         [1.43000e+02, 8.60000e+02, 3.69000e+02, 1.02400e+03, 7.38272e-01, 0.00000e+00],\n",
              "         [3.62000e+02, 1.86000e+02, 6.80000e+02, 3.90000e+02, 7.17065e-01, 1.40000e+01],\n",
              "         [0.00000e+00, 9.77000e+02, 1.02000e+02, 1.02400e+03, 2.75884e-01, 0.00000e+00]]),\n",
              " Ultralytics YOLO <class 'ultralytics.yolo.engine.results.Boxes'> masks\n",
              " type: <class 'torch.Tensor'>\n",
              " shape: torch.Size([6, 6])\n",
              " dtype: torch.float32\n",
              "  + tensor([[8.10000e+01, 1.93000e+02, 3.44000e+02, 6.76000e+02, 8.25465e-01, 0.00000e+00],\n",
              "         [4.50000e+02, 4.74000e+02, 4.94000e+02, 5.77000e+02, 7.15369e-01, 4.10000e+01],\n",
              "         [2.42000e+02, 3.46000e+02, 3.81000e+02, 4.89000e+02, 5.44743e-01, 6.20000e+01],\n",
              "         [4.50000e+02, 4.75000e+02, 4.93000e+02, 5.39000e+02, 3.44276e-01, 4.10000e+01],\n",
              "         [4.82000e+02, 1.73000e+02, 1.02300e+03, 6.71000e+02, 2.99390e-01, 5.50000e+01],\n",
              "         [4.82000e+02, 1.71000e+02, 1.02400e+03, 6.72000e+02, 2.72601e-01, 6.00000e+01]]),\n",
              " Ultralytics YOLO <class 'ultralytics.yolo.engine.results.Boxes'> masks\n",
              " type: <class 'torch.Tensor'>\n",
              " shape: torch.Size([4, 6])\n",
              " dtype: torch.float32\n",
              "  + tensor([[2.39000e+02, 4.30000e+01, 6.65000e+02, 7.59000e+02, 8.96542e-01, 0.00000e+00],\n",
              "         [6.07000e+02, 2.20000e+02, 8.32000e+02, 7.58000e+02, 8.00776e-01, 0.00000e+00],\n",
              "         [3.22000e+02, 1.21000e+02, 3.73000e+02, 2.50000e+02, 5.50471e-01, 7.90000e+01],\n",
              "         [0.00000e+00, 2.68000e+02, 1.12000e+02, 3.47000e+02, 3.42435e-01, 0.00000e+00]]),\n",
              " Ultralytics YOLO <class 'ultralytics.yolo.engine.results.Boxes'> masks\n",
              " type: <class 'torch.Tensor'>\n",
              " shape: torch.Size([1, 6])\n",
              " dtype: torch.float32\n",
              "  + tensor([[3.20000e+02, 4.11000e+02, 5.24000e+02, 7.88000e+02, 2.54147e-01, 0.00000e+00]]),\n",
              " Ultralytics YOLO <class 'ultralytics.yolo.engine.results.Boxes'> masks\n",
              " type: <class 'torch.Tensor'>\n",
              " shape: torch.Size([16, 6])\n",
              " dtype: torch.float32\n",
              "  + tensor([[5.56000e+02, 2.00000e+02, 7.76000e+02, 5.69000e+02, 9.30365e-01, 0.00000e+00],\n",
              "         [0.00000e+00, 2.00000e+00, 1.30000e+02, 5.66000e+02, 9.06401e-01, 0.00000e+00],\n",
              "         [4.55000e+02, 2.73000e+02, 5.62000e+02, 4.10000e+02, 8.70603e-01, 0.00000e+00],\n",
              "         [7.40000e+01, 1.42000e+02, 2.76000e+02, 5.69000e+02, 8.51095e-01, 0.00000e+00],\n",
              "         [4.19000e+02, 2.62000e+02, 4.88000e+02, 4.09000e+02, 8.19166e-01, 0.00000e+00],\n",
              "         [3.68000e+02, 2.95000e+02, 4.28000e+02, 4.11000e+02, 7.45962e-01, 0.00000e+00],\n",
              "         [5.48000e+02, 3.58000e+02, 5.79000e+02, 4.16000e+02, 6.95513e-01, 6.30000e+01],\n",
              "         [2.74000e+02, 2.95000e+02, 3.62000e+02, 4.20000e+02, 5.82449e-01, 0.00000e+00],\n",
              "         [5.53000e+02, 2.95000e+02, 5.97000e+02, 3.58000e+02, 5.77102e-01, 0.00000e+00],\n",
              "         [5.76000e+02, 2.87000e+02, 6.40000e+02, 3.58000e+02, 5.53832e-01, 0.00000e+00],\n",
              "         [7.04000e+02, 2.96000e+02, 7.40000e+02, 3.33000e+02, 4.06469e-01, 0.00000e+00],\n",
              "         [5.36000e+02, 2.98000e+02, 5.60000e+02, 3.41000e+02, 3.82695e-01, 0.00000e+00],\n",
              "         [2.86000e+02, 2.82000e+02, 3.18000e+02, 3.22000e+02, 3.23558e-01, 0.00000e+00],\n",
              "         [2.52000e+02, 2.86000e+02, 2.84000e+02, 3.50000e+02, 2.99740e-01, 0.00000e+00],\n",
              "         [7.32000e+02, 3.00000e+02, 7.79000e+02, 3.86000e+02, 2.86502e-01, 0.00000e+00],\n",
              "         [7.74000e+02, 2.12000e+02, 9.29000e+02, 5.01000e+02, 2.52985e-01, 6.20000e+01]]),\n",
              " Ultralytics YOLO <class 'ultralytics.yolo.engine.results.Boxes'> masks\n",
              " type: <class 'torch.Tensor'>\n",
              " shape: torch.Size([0, 6])\n",
              " dtype: torch.float32\n",
              "  + tensor([], size=(0, 6)),\n",
              " Ultralytics YOLO <class 'ultralytics.yolo.engine.results.Boxes'> masks\n",
              " type: <class 'torch.Tensor'>\n",
              " shape: torch.Size([1, 6])\n",
              " dtype: torch.float32\n",
              "  + tensor([[3.84000e+02, 3.26000e+02, 1.02200e+03, 7.59000e+02, 7.57690e-01, 6.00000e+00]]),\n",
              " Ultralytics YOLO <class 'ultralytics.yolo.engine.results.Boxes'> masks\n",
              " type: <class 'torch.Tensor'>\n",
              " shape: torch.Size([3, 6])\n",
              " dtype: torch.float32\n",
              "  + tensor([[0.00000e+00, 1.08000e+02, 3.88000e+02, 1.02100e+03, 9.44307e-01, 0.00000e+00],\n",
              "         [2.98000e+02, 1.84000e+02, 5.73000e+02, 1.02200e+03, 9.35237e-01, 0.00000e+00],\n",
              "         [0.00000e+00, 3.51000e+02, 3.10000e+01, 4.10000e+02, 6.32913e-01, 0.00000e+00]]),\n",
              " Ultralytics YOLO <class 'ultralytics.yolo.engine.results.Boxes'> masks\n",
              " type: <class 'torch.Tensor'>\n",
              " shape: torch.Size([27, 6])\n",
              " dtype: torch.float32\n",
              "  + tensor([[5.06000e+02, 2.08000e+02, 1.02300e+03, 6.74000e+02, 9.55977e-01, 0.00000e+00],\n",
              "         [0.00000e+00, 2.42000e+02, 4.09000e+02, 6.72000e+02, 9.38099e-01, 0.00000e+00],\n",
              "         [3.92000e+02, 1.35000e+02, 6.20000e+02, 4.19000e+02, 8.80373e-01, 0.00000e+00],\n",
              "         [2.13000e+02, 1.86000e+02, 3.87000e+02, 4.18000e+02, 8.45155e-01, 0.00000e+00],\n",
              "         [0.00000e+00, 6.01000e+02, 3.42000e+02, 6.78000e+02, 8.23905e-01, 5.60000e+01],\n",
              "         [4.97000e+02, 3.69000e+02, 5.33000e+02, 4.53000e+02, 8.07469e-01, 3.90000e+01],\n",
              "         [9.71000e+02, 2.75000e+02, 9.96000e+02, 3.42000e+02, 7.87926e-01, 3.90000e+01],\n",
              "         [3.00000e+02, 3.31000e+02, 3.42000e+02, 4.51000e+02, 7.82917e-01, 3.90000e+01],\n",
              "         [3.40000e+01, 3.37000e+02, 7.20000e+01, 4.28000e+02, 7.67995e-01, 3.90000e+01],\n",
              "         [7.24000e+02, 1.74000e+02, 8.98000e+02, 3.67000e+02, 7.66670e-01, 0.00000e+00],\n",
              "         [8.08000e+02, 3.66000e+02, 9.46000e+02, 4.18000e+02, 6.76280e-01, 5.60000e+01],\n",
              "         [8.76000e+02, 2.88000e+02, 9.38000e+02, 3.30000e+02, 6.36411e-01, 5.60000e+01],\n",
              "         [4.00000e+02, 2.13000e+02, 4.16000e+02, 2.61000e+02, 6.31702e-01, 3.90000e+01],\n",
              "         [0.00000e+00, 3.75000e+02, 3.60000e+01, 4.41000e+02, 5.94329e-01, 4.10000e+01],\n",
              "         [3.58000e+02, 1.41000e+02, 4.46000e+02, 2.59000e+02, 5.43901e-01, 0.00000e+00],\n",
              "         [7.73000e+02, 2.22000e+02, 8.05000e+02, 2.52000e+02, 5.36768e-01, 7.40000e+01],\n",
              "         [8.70000e+02, 2.11000e+02, 8.94000e+02, 2.70000e+02, 4.41248e-01, 3.90000e+01],\n",
              "         [4.49000e+02, 6.90000e+01, 5.10000e+02, 1.27000e+02, 4.32204e-01, 0.00000e+00],\n",
              "         [5.37000e+02, 4.20000e+01, 6.24000e+02, 1.36000e+02, 4.10379e-01, 0.00000e+00],\n",
              "         [8.84000e+02, 3.23000e+02, 1.02300e+03, 3.81000e+02, 4.02403e-01, 6.00000e+01],\n",
              "         [3.40000e+02, 4.02000e+02, 6.20000e+02, 5.48000e+02, 3.85888e-01, 6.00000e+01],\n",
              "         [3.37000e+02, 3.90000e+02, 4.67000e+02, 4.87000e+02, 3.64246e-01, 2.40000e+01],\n",
              "         [9.01000e+02, 1.53000e+02, 1.02400e+03, 3.01000e+02, 3.62430e-01, 0.00000e+00],\n",
              "         [2.77000e+02, 5.70000e+01, 3.56000e+02, 1.31000e+02, 3.12044e-01, 0.00000e+00],\n",
              "         [3.43000e+02, 4.07000e+02, 6.20000e+02, 6.76000e+02, 3.05835e-01, 6.00000e+01],\n",
              "         [3.73000e+02, 3.54000e+02, 4.99000e+02, 4.30000e+02, 3.05094e-01, 5.60000e+01],\n",
              "         [3.02000e+02, 2.23000e+02, 3.95000e+02, 2.70000e+02, 2.51774e-01, 2.40000e+01]]),\n",
              " Ultralytics YOLO <class 'ultralytics.yolo.engine.results.Boxes'> masks\n",
              " type: <class 'torch.Tensor'>\n",
              " shape: torch.Size([11, 6])\n",
              " dtype: torch.float32\n",
              "  + tensor([[7.86000e+02, 3.41000e+02, 9.89000e+02, 7.16000e+02, 9.45050e-01, 0.00000e+00],\n",
              "         [3.90000e+01, 3.24000e+02, 2.72000e+02, 7.16000e+02, 9.30837e-01, 0.00000e+00],\n",
              "         [2.34000e+02, 3.86000e+02, 3.92000e+02, 7.17000e+02, 9.08170e-01, 0.00000e+00],\n",
              "         [3.80000e+02, 3.65000e+02, 5.92000e+02, 7.17000e+02, 9.08142e-01, 0.00000e+00],\n",
              "         [5.88000e+02, 3.44000e+02, 7.98000e+02, 7.16000e+02, 8.85324e-01, 0.00000e+00],\n",
              "         [6.61000e+02, 4.54000e+02, 6.94000e+02, 5.70000e+02, 8.53779e-01, 2.70000e+01],\n",
              "         [3.68000e+02, 3.59000e+02, 4.40000e+02, 5.06000e+02, 8.15293e-01, 0.00000e+00],\n",
              "         [8.29000e+02, 4.50000e+02, 8.49000e+02, 5.21000e+02, 7.74289e-01, 2.70000e+01],\n",
              "         [3.40000e+02, 4.96000e+02, 3.91000e+02, 7.18000e+02, 6.04134e-01, 2.70000e+01],\n",
              "         [9.69000e+02, 6.03000e+02, 1.02300e+03, 7.18000e+02, 4.46599e-01, 2.00000e+00],\n",
              "         [1.61000e+02, 4.42000e+02, 1.76000e+02, 4.79000e+02, 3.05210e-01, 2.70000e+01]]),\n",
              " Ultralytics YOLO <class 'ultralytics.yolo.engine.results.Boxes'> masks\n",
              " type: <class 'torch.Tensor'>\n",
              " shape: torch.Size([0, 6])\n",
              " dtype: torch.float32\n",
              "  + tensor([], size=(0, 6)),\n",
              " Ultralytics YOLO <class 'ultralytics.yolo.engine.results.Boxes'> masks\n",
              " type: <class 'torch.Tensor'>\n",
              " shape: torch.Size([0, 6])\n",
              " dtype: torch.float32\n",
              "  + tensor([], size=(0, 6)),\n",
              " Ultralytics YOLO <class 'ultralytics.yolo.engine.results.Boxes'> masks\n",
              " type: <class 'torch.Tensor'>\n",
              " shape: torch.Size([21, 6])\n",
              " dtype: torch.float32\n",
              "  + tensor([[6.58000e+02, 6.00000e+00, 1.02400e+03, 5.76000e+02, 9.45854e-01, 0.00000e+00],\n",
              "         [3.79000e+02, 2.55000e+02, 5.92000e+02, 5.87000e+02, 8.74618e-01, 0.00000e+00],\n",
              "         [6.70000e+02, 2.00000e+00, 1.02400e+03, 3.55000e+02, 8.20683e-01, 2.00000e+00],\n",
              "         [6.30000e+02, 1.34000e+02, 6.96000e+02, 3.34000e+02, 7.23940e-01, 0.00000e+00],\n",
              "         [4.74000e+02, 1.52000e+02, 5.30000e+02, 2.68000e+02, 6.49616e-01, 0.00000e+00],\n",
              "         [3.85000e+02, 1.39000e+02, 4.45000e+02, 3.16000e+02, 6.33245e-01, 0.00000e+00],\n",
              "         [2.10000e+01, 1.52000e+02, 7.40000e+01, 3.67000e+02, 6.18750e-01, 0.00000e+00],\n",
              "         [2.08000e+02, 1.46000e+02, 2.70000e+02, 3.20000e+02, 6.01665e-01, 0.00000e+00],\n",
              "         [5.59000e+02, 1.57000e+02, 6.23000e+02, 3.38000e+02, 5.74564e-01, 0.00000e+00],\n",
              "         [2.74000e+02, 1.42000e+02, 3.32000e+02, 3.21000e+02, 5.33467e-01, 0.00000e+00],\n",
              "         [1.54000e+02, 1.78000e+02, 1.89000e+02, 2.95000e+02, 5.31501e-01, 0.00000e+00],\n",
              "         [0.00000e+00, 1.42000e+02, 3.60000e+01, 2.45000e+02, 5.00325e-01, 0.00000e+00],\n",
              "         [5.44000e+02, 1.46000e+02, 5.88000e+02, 3.09000e+02, 4.06653e-01, 0.00000e+00],\n",
              "         [1.82000e+02, 1.74000e+02, 2.21000e+02, 2.94000e+02, 4.04770e-01, 0.00000e+00],\n",
              "         [3.17000e+02, 1.72000e+02, 3.54000e+02, 2.98000e+02, 4.02436e-01, 0.00000e+00],\n",
              "         [5.80000e+01, 1.53000e+02, 1.01000e+02, 3.13000e+02, 3.33343e-01, 0.00000e+00],\n",
              "         [9.70000e+02, 2.34000e+02, 1.02400e+03, 6.73000e+02, 3.12876e-01, 0.00000e+00],\n",
              "         [1.13000e+02, 1.84000e+02, 1.47000e+02, 2.91000e+02, 3.10921e-01, 0.00000e+00],\n",
              "         [6.68000e+02, 1.29000e+02, 8.08000e+02, 3.52000e+02, 2.91787e-01, 2.00000e+00],\n",
              "         [2.50000e+02, 3.11000e+02, 9.52000e+02, 6.74000e+02, 2.83869e-01, 8.00000e+00],\n",
              "         [5.18000e+02, 1.62000e+02, 5.54000e+02, 3.10000e+02, 2.50029e-01, 0.00000e+00]]),\n",
              " Ultralytics YOLO <class 'ultralytics.yolo.engine.results.Boxes'> masks\n",
              " type: <class 'torch.Tensor'>\n",
              " shape: torch.Size([12, 6])\n",
              " dtype: torch.float32\n",
              "  + tensor([[2.10000e+02, 1.16000e+02, 7.29000e+02, 6.13000e+02, 9.42697e-01, 0.00000e+00],\n",
              "         [1.04000e+02, 1.80000e+02, 3.62000e+02, 5.77000e+02, 9.27581e-01, 0.00000e+00],\n",
              "         [5.48000e+02, 1.32000e+02, 8.38000e+02, 5.54000e+02, 9.20693e-01, 0.00000e+00],\n",
              "         [3.84000e+02, 4.71000e+02, 4.39000e+02, 6.21000e+02, 8.96350e-01, 3.90000e+01],\n",
              "         [4.33000e+02, 4.68000e+02, 5.01000e+02, 6.19000e+02, 8.87316e-01, 4.00000e+01],\n",
              "         [1.37000e+02, 3.96000e+02, 2.47000e+02, 5.78000e+02, 8.85552e-01, 5.60000e+01],\n",
              "         [8.32000e+02, 3.44000e+02, 9.53000e+02, 5.46000e+02, 8.37720e-01, 5.60000e+01],\n",
              "         [9.42000e+02, 2.59000e+02, 1.02400e+03, 4.55000e+02, 8.33452e-01, 0.00000e+00],\n",
              "         [7.77000e+02, 4.25000e+02, 1.02300e+03, 6.75000e+02, 7.08014e-01, 5.80000e+01],\n",
              "         [0.00000e+00, 4.87000e+02, 1.30000e+02, 6.23000e+02, 7.02406e-01, 0.00000e+00],\n",
              "         [4.60000e+02, 3.52000e+02, 5.00000e+02, 4.71000e+02, 6.92997e-01, 2.70000e+01],\n",
              "         [4.59000e+02, 3.53000e+02, 5.03000e+02, 5.66000e+02, 3.49083e-01, 2.70000e+01]]),\n",
              " Ultralytics YOLO <class 'ultralytics.yolo.engine.results.Boxes'> masks\n",
              " type: <class 'torch.Tensor'>\n",
              " shape: torch.Size([12, 6])\n",
              " dtype: torch.float32\n",
              "  + tensor([[4.89000e+02, 1.35000e+02, 8.03000e+02, 5.80000e+02, 8.44975e-01, 0.00000e+00],\n",
              "         [7.52000e+02, 1.73000e+02, 8.91000e+02, 5.76000e+02, 7.44329e-01, 0.00000e+00],\n",
              "         [5.88000e+02, 5.07000e+02, 7.47000e+02, 6.58000e+02, 6.68125e-01, 0.00000e+00],\n",
              "         [9.17000e+02, 2.93000e+02, 1.02400e+03, 5.67000e+02, 6.61391e-01, 0.00000e+00],\n",
              "         [0.00000e+00, 1.19000e+02, 1.03000e+02, 6.31000e+02, 6.49137e-01, 0.00000e+00],\n",
              "         [3.89000e+02, 2.45000e+02, 5.41000e+02, 4.91000e+02, 5.86170e-01, 0.00000e+00],\n",
              "         [9.17000e+02, 5.51000e+02, 1.02400e+03, 6.56000e+02, 5.65819e-01, 0.00000e+00],\n",
              "         [2.23000e+02, 4.22000e+02, 3.28000e+02, 5.68000e+02, 4.55959e-01, 5.60000e+01],\n",
              "         [9.17000e+02, 2.93000e+02, 1.02400e+03, 4.42000e+02, 4.13067e-01, 0.00000e+00],\n",
              "         [4.99000e+02, 5.82000e+02, 6.54000e+02, 6.59000e+02, 3.64733e-01, 0.00000e+00],\n",
              "         [6.69000e+02, 5.71000e+02, 8.56000e+02, 6.58000e+02, 3.21314e-01, 6.30000e+01],\n",
              "         [6.23000e+02, 3.12000e+02, 8.63000e+02, 4.55000e+02, 2.59953e-01, 3.70000e+01]])]"
            ]
          },
          "execution_count": 11,
          "metadata": {},
          "output_type": "execute_result"
        }
      ],
      "source": [
        "results"
      ]
    },
    {
      "cell_type": "code",
      "execution_count": null,
      "metadata": {
        "colab": {
          "base_uri": "https://localhost:8080/"
        },
        "id": "J_8XSVSfoUfX",
        "outputId": "9a49c6f6-335c-4792-edb9-a955f544682c"
      },
      "outputs": [
        {
          "data": {
            "text/plain": [
              "24"
            ]
          },
          "execution_count": 12,
          "metadata": {},
          "output_type": "execute_result"
        }
      ],
      "source": [
        "len(results)"
      ]
    },
    {
      "cell_type": "code",
      "execution_count": null,
      "metadata": {
        "id": "9sZ7m4MXjJEP"
      },
      "outputs": [],
      "source": [
        "def box_label(image, box, label='', color=(128, 128, 128), txt_color=(255, 255, 255)):\n",
        "  lw = max(round(sum(image.shape) / 2 * 0.003), 2)\n",
        "  p1, p2 = (int(box[0]), int(box[1])), (int(box[2]), int(box[3]))\n",
        "  cv2.rectangle(image, p1, p2, color, thickness=lw, lineType=cv2.LINE_AA)\n",
        "  if label:\n",
        "    tf = max(lw - 1, 1)  # font thickness\n",
        "    w, h = cv2.getTextSize(label, 0, fontScale=lw / 3, thickness=tf)[0]  # text width, height\n",
        "    outside = p1[1] - h >= 3\n",
        "    p2 = p1[0] + w, p1[1] - h - 3 if outside else p1[1] + h + 3\n",
        "    cv2.rectangle(image, p1, p2, color, -1, cv2.LINE_AA)  # filled\n",
        "    cv2.putText(image,\n",
        "                label, (p1[0], p1[1] - 2 if outside else p1[1] + h + 2),\n",
        "                0,\n",
        "                lw / 3,\n",
        "                txt_color,\n",
        "                thickness=tf,\n",
        "                lineType=cv2.LINE_AA)"
      ]
    },
    {
      "cell_type": "code",
      "execution_count": null,
      "metadata": {
        "id": "4HK5Gq4pjXeL"
      },
      "outputs": [],
      "source": [
        "from google.colab.patches import cv2_imshow\n",
        "def plot_bboxes(image, boxes, labels=[], colors=[], score=True, conf=None):\n",
        "  #Define COCO Labels\n",
        "  if labels == []:\n",
        "    labels = {0: u'__background__', 1: u'person', 2: u'bicycle',3: u'car', 4: u'motorcycle', 5: u'airplane', 6: u'bus', 7: u'train', 8: u'truck', 9: u'boat', 10: u'traffic light', 11: u'fire hydrant', 12: u'stop sign', 13: u'parking meter', 14: u'bench', 15: u'bird', 16: u'cat', 17: u'dog', 18: u'horse', 19: u'sheep', 20: u'cow', 21: u'elephant', 22: u'bear', 23: u'zebra', 24: u'giraffe', 25: u'backpack', 26: u'umbrella', 27: u'handbag', 28: u'tie', 29: u'suitcase', 30: u'frisbee', 31: u'skis', 32: u'snowboard', 33: u'sports ball', 34: u'kite', 35: u'baseball bat', 36: u'baseball glove', 37: u'skateboard', 38: u'surfboard', 39: u'tennis racket', 40: u'bottle', 41: u'wine glass', 42: u'cup', 43: u'fork', 44: u'knife', 45: u'spoon', 46: u'bowl', 47: u'banana', 48: u'apple', 49: u'sandwich', 50: u'orange', 51: u'broccoli', 52: u'carrot', 53: u'hot dog', 54: u'pizza', 55: u'donut', 56: u'cake', 57: u'chair', 58: u'couch', 59: u'potted plant', 60: u'bed', 61: u'dining table', 62: u'toilet', 63: u'tv', 64: u'laptop', 65: u'mouse', 66: u'remote', 67: u'keyboard', 68: u'cell phone', 69: u'microwave', 70: u'oven', 71: u'toaster', 72: u'sink', 73: u'refrigerator', 74: u'book', 75: u'clock', 76: u'vase', 77: u'scissors', 78: u'teddy bear', 79: u'hair drier', 80: u'toothbrush'}\n",
        "  #Define colors\n",
        "  if colors == []:\n",
        "    #colors = [(6, 112, 83), (253, 246, 160), (40, 132, 70), (205, 97, 162), (149, 196, 30), (106, 19, 161), (127, 175, 225), (115, 133, 176), (83, 156, 8), (182, 29, 77), (180, 11, 251), (31, 12, 123), (23, 6, 115), (167, 34, 31), (176, 216, 69), (110, 229, 222), (72, 183, 159), (90, 168, 209), (195, 4, 209), (135, 236, 21), (62, 209, 199), (87, 1, 70), (75, 40, 168), (121, 90, 126), (11, 86, 86), (40, 218, 53), (234, 76, 20), (129, 174, 192), (13, 18, 254), (45, 183, 149), (77, 234, 120), (182, 83, 207), (172, 138, 252), (201, 7, 159), (147, 240, 17), (134, 19, 233), (202, 61, 206), (177, 253, 26), (10, 139, 17), (130, 148, 106), (174, 197, 128), (106, 59, 168), (124, 180, 83), (78, 169, 4), (26, 79, 176), (185, 149, 150), (165, 253, 206), (220, 87, 0), (72, 22, 226), (64, 174, 4), (245, 131, 96), (35, 217, 142), (89, 86, 32), (80, 56, 196), (222, 136, 159), (145, 6, 219), (143, 132, 162), (175, 97, 221), (72, 3, 79), (196, 184, 237), (18, 210, 116), (8, 185, 81), (99, 181, 254), (9, 127, 123), (140, 94, 215), (39, 229, 121), (230, 51, 96), (84, 225, 33), (218, 202, 139), (129, 223, 182), (167, 46, 157), (15, 252, 5), (128, 103, 203), (197, 223, 199), (19, 238, 181), (64, 142, 167), (12, 203, 242), (69, 21, 41), (177, 184, 2), (35, 97, 56), (241, 22, 161)]\n",
        "    colors = [(89, 161, 197),(67, 161, 255),(19, 222, 24),(186, 55, 2),(167, 146, 11),(190, 76, 98),(130, 172, 179),(115, 209, 128),(204, 79, 135),(136, 126, 185),(209, 213, 45),(44, 52, 10),(101, 158, 121),(179, 124, 12),(25, 33, 189),(45, 115, 11),(73, 197, 184),(62, 225, 221),(32, 46, 52),(20, 165, 16),(54, 15, 57),(12, 150, 9),(10, 46, 99),(94, 89, 46),(48, 37, 106),(42, 10, 96),(7, 164, 128),(98, 213, 120),(40, 5, 219),(54, 25, 150),(251, 74, 172),(0, 236, 196),(21, 104, 190),(226, 74, 232),(120, 67, 25),(191, 106, 197),(8, 15, 134),(21, 2, 1),(142, 63, 109),(133, 148, 146),(187, 77, 253),(155, 22, 122),(218, 130, 77),(164, 102, 79),(43, 152, 125),(185, 124, 151),(95, 159, 238),(128, 89, 85),(228, 6, 60),(6, 41, 210),(11, 1, 133),(30, 96, 58),(230, 136, 109),(126, 45, 174),(164, 63, 165),(32, 111, 29),(232, 40, 70),(55, 31, 198),(148, 211, 129),(10, 186, 211),(181, 201, 94),(55, 35, 92),(129, 140, 233),(70, 250, 116),(61, 209, 152),(216, 21, 138),(100, 0, 176),(3, 42, 70),(151, 13, 44),(216, 102, 88),(125, 216, 93),(171, 236, 47),(253, 127, 103),(205, 137, 244),(193, 137, 224),(36, 152, 214),(17, 50, 238),(154, 165, 67),(114, 129, 60),(119, 24, 48),(73, 8, 110)]\n",
        "  \n",
        "  #plot each boxes\n",
        "  for box in boxes:\n",
        "    #add score in label if score=True\n",
        "    if score :\n",
        "      label = labels[int(box[-1])+1] + \" \" + str(round(100 * float(box[-2]),1)) + \"%\"\n",
        "    else :\n",
        "      label = labels[int(box[-1])+1]\n",
        "    #filter every box under conf threshold if conf threshold setted\n",
        "    if conf :\n",
        "      if box[-2] > conf:\n",
        "        color = colors[int(box[-1])]\n",
        "        box_label(image, box, label, color)\n",
        "    else:\n",
        "      color = colors[int(box[-1])]\n",
        "      box_label(image, box, label, color)\n",
        "\n",
        "  #show image\n",
        "  #image = cv2.cvtColor(image, cv2.COLOR_BGR2RGB)\n",
        "\n",
        "  try:\n",
        "    import google.colab\n",
        "    IN_COLAB = True\n",
        "  except:\n",
        "    IN_COLAB = False\n",
        "\n",
        "\n",
        "  if IN_COLAB:\n",
        "    cv2_imshow(image) #if used in Colab\n",
        "  else :\n",
        "    cv2.imshow(image) #if used in Python\n"
      ]
    },
    {
      "cell_type": "code",
      "execution_count": null,
      "metadata": {
        "colab": {
          "background_save": true,
          "base_uri": "https://localhost:8080/",
          "height": 1000
        },
        "id": "atZratHgjM93",
        "outputId": "ceaa224e-2df4-41ad-8636-bd232c01a508"
      },
      "outputs": [],
      "source": [
        "#Plotting the output of YOLOv8\n",
        "%matplotlib inline\n",
        "plt.figure(figsize=(10,10), dpi=200)\n",
        "for i in range(len(list_img)):\n",
        "  plot_bboxes(np_img[i], results[i].boxes.boxes, score=False)\n",
        "\n"
      ]
    },
    {
      "cell_type": "markdown",
      "metadata": {
        "id": "Vf0lGeI59k5A"
      },
      "source": [
        "# Dataset2 (50)"
      ]
    },
    {
      "cell_type": "code",
      "execution_count": null,
      "metadata": {
        "colab": {
          "base_uri": "https://localhost:8080/"
        },
        "id": "0E3qDCdgqfE6",
        "outputId": "bbe994db-0632-4367-8e2a-bdd6cfb65b20"
      },
      "outputs": [
        {
          "name": "stdout",
          "output_type": "stream",
          "text": [
            "Drive already mounted at /content/gdrive; to attempt to forcibly remount, call drive.mount(\"/content/gdrive\", force_remount=True).\n",
            "[Errno 2] No such file or directory: 'gdrive/MyDrive'\n",
            "/content/gdrive/MyDrive\n"
          ]
        }
      ],
      "source": [
        "# mount Google Drive\n",
        "from google.colab import drive\n",
        "drive.mount('/content/gdrive')\n",
        "%cd gdrive/MyDrive"
      ]
    },
    {
      "cell_type": "code",
      "execution_count": null,
      "metadata": {
        "colab": {
          "base_uri": "https://localhost:8080/"
        },
        "id": "v3SdcRpI612d",
        "outputId": "37c28f7d-fd6d-4e9e-eb62-a2beea92f830"
      },
      "outputs": [
        {
          "data": {
            "text/plain": [
              "50"
            ]
          },
          "execution_count": 17,
          "metadata": {},
          "output_type": "execute_result"
        }
      ],
      "source": [
        "#loading the images \n",
        "\n",
        "list_img2 = os.listdir(\"yolov7/unsplash-images-collection\")\n",
        "list_img2 = list_img2[:50]\n",
        "len(list_img2)"
      ]
    },
    {
      "cell_type": "code",
      "execution_count": null,
      "metadata": {
        "id": "Hy-dzHtL7GQY"
      },
      "outputs": [],
      "source": [
        "for i in range(len(list_img2)):\n",
        "  list_img2[i]='yolov7/unsplash-images-collection/'+ list_img2[i]"
      ]
    },
    {
      "cell_type": "code",
      "execution_count": null,
      "metadata": {
        "id": "h8rS3ByP7G5k"
      },
      "outputs": [],
      "source": [
        "np_img2 = []\n",
        "for i in range(len(list_img2)):\n",
        "  np_img2.append(cv2.imread(list_img2[i]))"
      ]
    },
    {
      "cell_type": "code",
      "execution_count": null,
      "metadata": {
        "id": "i4w8o3ON7NSU"
      },
      "outputs": [],
      "source": [
        "%%time\n",
        "results = modelv8.predict(np_img2)"
      ]
    },
    {
      "cell_type": "code",
      "execution_count": null,
      "metadata": {
        "colab": {
          "background_save": true
        },
        "id": "H3MgjYCx7Rak",
        "outputId": "d3e90b19-a5e8-4385-b52c-66d5856b2ccb"
      },
      "outputs": [],
      "source": [
        "#Plotting the output of YOLOv8\n",
        "%matplotlib inline\n",
        "plt.figure(figsize=(10,10), dpi=200)\n",
        "for i in range(len(list_img2)):\n",
        "  plot_bboxes(np_img2[i], results[i].boxes.boxes, score=False)\n"
      ]
    },
    {
      "cell_type": "markdown",
      "metadata": {
        "id": "l0JhFjP-9o4T"
      },
      "source": [
        "# Dataset3 (60)"
      ]
    },
    {
      "cell_type": "code",
      "execution_count": null,
      "metadata": {
        "id": "GQOUntpV7YW6"
      },
      "outputs": [],
      "source": [
        "# mount Google Drive\n",
        "from google.colab import drive\n",
        "drive.mount('/content/gdrive')\n",
        "%cd gdrive/MyDrive"
      ]
    },
    {
      "cell_type": "code",
      "execution_count": null,
      "metadata": {
        "id": "GUwJRTRL-Vug"
      },
      "outputs": [],
      "source": [
        "#loading the images \n",
        "\n",
        "list_img3 = os.listdir(\"yolov7/images\")\n",
        "#list_img3 = list_img23[:50]\n",
        "len(list_img3)"
      ]
    },
    {
      "cell_type": "code",
      "execution_count": null,
      "metadata": {
        "id": "9z4Mk6bQ_Nmq"
      },
      "outputs": [],
      "source": [
        "for i in range(len(list_img3)):\n",
        "  list_img3[i]='yolov7/images/'+ list_img3[i]"
      ]
    },
    {
      "cell_type": "code",
      "execution_count": null,
      "metadata": {
        "id": "pd_MKGsQ-nbS"
      },
      "outputs": [],
      "source": [
        "np_img3 = []\n",
        "for i in range(len(list_img3)):\n",
        "  np_img3.append(cv2.imread(list_img3[i]))"
      ]
    },
    {
      "cell_type": "code",
      "execution_count": null,
      "metadata": {
        "id": "f9WF_ilz-0C8"
      },
      "outputs": [],
      "source": [
        "%%time\n",
        "results = modelv8.predict(np_img3)"
      ]
    },
    {
      "cell_type": "code",
      "execution_count": null,
      "metadata": {
        "colab": {
          "background_save": true
        },
        "id": "5Vij3z-C-06Y",
        "outputId": "bd7ffdd4-b88b-46c0-a885-77b0d6ef844c"
      },
      "outputs": [],
      "source": [
        "#Plotting the output of YOLOv8\n",
        "%matplotlib inline\n",
        "plt.figure(figsize=(10,10), dpi=200)\n",
        "for i in range(len(list_img3)):\n",
        "  plot_bboxes(np_img3[i], results[i].boxes.boxes, score=False)"
      ]
    },
    {
      "cell_type": "code",
      "execution_count": null,
      "metadata": {
        "colab": {
          "background_save": true
        },
        "id": "F2HKVzio_hoj"
      },
      "outputs": [],
      "source": []
    }
  ],
  "metadata": {
    "colab": {
      "provenance": []
    },
    "kernelspec": {
      "display_name": "Python 3",
      "name": "python3"
    },
    "language_info": {
      "name": "python"
    },
    "widgets": {
      "application/vnd.jupyter.widget-state+json": {
        "176e634ae7794398af87a0940ecb1a82": {
          "model_module": "@jupyter-widgets/base",
          "model_module_version": "1.2.0",
          "model_name": "LayoutModel",
          "state": {
            "_model_module": "@jupyter-widgets/base",
            "_model_module_version": "1.2.0",
            "_model_name": "LayoutModel",
            "_view_count": null,
            "_view_module": "@jupyter-widgets/base",
            "_view_module_version": "1.2.0",
            "_view_name": "LayoutView",
            "align_content": null,
            "align_items": null,
            "align_self": null,
            "border": null,
            "bottom": null,
            "display": null,
            "flex": null,
            "flex_flow": null,
            "grid_area": null,
            "grid_auto_columns": null,
            "grid_auto_flow": null,
            "grid_auto_rows": null,
            "grid_column": null,
            "grid_gap": null,
            "grid_row": null,
            "grid_template_areas": null,
            "grid_template_columns": null,
            "grid_template_rows": null,
            "height": null,
            "justify_content": null,
            "justify_items": null,
            "left": null,
            "margin": null,
            "max_height": null,
            "max_width": null,
            "min_height": null,
            "min_width": null,
            "object_fit": null,
            "object_position": null,
            "order": null,
            "overflow": null,
            "overflow_x": null,
            "overflow_y": null,
            "padding": null,
            "right": null,
            "top": null,
            "visibility": null,
            "width": null
          }
        },
        "3e974f3fe71c4068a36c59ec3a91f29c": {
          "model_module": "@jupyter-widgets/controls",
          "model_module_version": "1.5.0",
          "model_name": "FloatProgressModel",
          "state": {
            "_dom_classes": [],
            "_model_module": "@jupyter-widgets/controls",
            "_model_module_version": "1.5.0",
            "_model_name": "FloatProgressModel",
            "_view_count": null,
            "_view_module": "@jupyter-widgets/controls",
            "_view_module_version": "1.5.0",
            "_view_name": "ProgressView",
            "bar_style": "success",
            "description": "",
            "description_tooltip": null,
            "layout": "IPY_MODEL_641b60bc6bdf4eb48b7863d87db170fc",
            "max": 52117635,
            "min": 0,
            "orientation": "horizontal",
            "style": "IPY_MODEL_9dc475006f5443b18a519f3f21fd9de9",
            "value": 52117635
          }
        },
        "61540ebdd2884edaae6d57f732e2f1f0": {
          "model_module": "@jupyter-widgets/controls",
          "model_module_version": "1.5.0",
          "model_name": "DescriptionStyleModel",
          "state": {
            "_model_module": "@jupyter-widgets/controls",
            "_model_module_version": "1.5.0",
            "_model_name": "DescriptionStyleModel",
            "_view_count": null,
            "_view_module": "@jupyter-widgets/base",
            "_view_module_version": "1.2.0",
            "_view_name": "StyleView",
            "description_width": ""
          }
        },
        "641b60bc6bdf4eb48b7863d87db170fc": {
          "model_module": "@jupyter-widgets/base",
          "model_module_version": "1.2.0",
          "model_name": "LayoutModel",
          "state": {
            "_model_module": "@jupyter-widgets/base",
            "_model_module_version": "1.2.0",
            "_model_name": "LayoutModel",
            "_view_count": null,
            "_view_module": "@jupyter-widgets/base",
            "_view_module_version": "1.2.0",
            "_view_name": "LayoutView",
            "align_content": null,
            "align_items": null,
            "align_self": null,
            "border": null,
            "bottom": null,
            "display": null,
            "flex": null,
            "flex_flow": null,
            "grid_area": null,
            "grid_auto_columns": null,
            "grid_auto_flow": null,
            "grid_auto_rows": null,
            "grid_column": null,
            "grid_gap": null,
            "grid_row": null,
            "grid_template_areas": null,
            "grid_template_columns": null,
            "grid_template_rows": null,
            "height": null,
            "justify_content": null,
            "justify_items": null,
            "left": null,
            "margin": null,
            "max_height": null,
            "max_width": null,
            "min_height": null,
            "min_width": null,
            "object_fit": null,
            "object_position": null,
            "order": null,
            "overflow": null,
            "overflow_x": null,
            "overflow_y": null,
            "padding": null,
            "right": null,
            "top": null,
            "visibility": null,
            "width": null
          }
        },
        "68a058d0d68946d3b07c554bc685f39e": {
          "model_module": "@jupyter-widgets/controls",
          "model_module_version": "1.5.0",
          "model_name": "HTMLModel",
          "state": {
            "_dom_classes": [],
            "_model_module": "@jupyter-widgets/controls",
            "_model_module_version": "1.5.0",
            "_model_name": "HTMLModel",
            "_view_count": null,
            "_view_module": "@jupyter-widgets/controls",
            "_view_module_version": "1.5.0",
            "_view_name": "HTMLView",
            "description": "",
            "description_tooltip": null,
            "layout": "IPY_MODEL_176e634ae7794398af87a0940ecb1a82",
            "placeholder": "​",
            "style": "IPY_MODEL_61540ebdd2884edaae6d57f732e2f1f0",
            "value": " 49.7M/49.7M [00:02&lt;00:00, 35.2MB/s]"
          }
        },
        "975499915fee45f4ba8abbc05bcee347": {
          "model_module": "@jupyter-widgets/controls",
          "model_module_version": "1.5.0",
          "model_name": "DescriptionStyleModel",
          "state": {
            "_model_module": "@jupyter-widgets/controls",
            "_model_module_version": "1.5.0",
            "_model_name": "DescriptionStyleModel",
            "_view_count": null,
            "_view_module": "@jupyter-widgets/base",
            "_view_module_version": "1.2.0",
            "_view_name": "StyleView",
            "description_width": ""
          }
        },
        "9dc475006f5443b18a519f3f21fd9de9": {
          "model_module": "@jupyter-widgets/controls",
          "model_module_version": "1.5.0",
          "model_name": "ProgressStyleModel",
          "state": {
            "_model_module": "@jupyter-widgets/controls",
            "_model_module_version": "1.5.0",
            "_model_name": "ProgressStyleModel",
            "_view_count": null,
            "_view_module": "@jupyter-widgets/base",
            "_view_module_version": "1.2.0",
            "_view_name": "StyleView",
            "bar_color": null,
            "description_width": ""
          }
        },
        "a74473d1b3224709a0750d09dd85c423": {
          "model_module": "@jupyter-widgets/controls",
          "model_module_version": "1.5.0",
          "model_name": "HBoxModel",
          "state": {
            "_dom_classes": [],
            "_model_module": "@jupyter-widgets/controls",
            "_model_module_version": "1.5.0",
            "_model_name": "HBoxModel",
            "_view_count": null,
            "_view_module": "@jupyter-widgets/controls",
            "_view_module_version": "1.5.0",
            "_view_name": "HBoxView",
            "box_style": "",
            "children": [
              "IPY_MODEL_c862e86222ae4c92b8e3d5c133c6985f",
              "IPY_MODEL_3e974f3fe71c4068a36c59ec3a91f29c",
              "IPY_MODEL_68a058d0d68946d3b07c554bc685f39e"
            ],
            "layout": "IPY_MODEL_ea0b72bc56664efea0c1239c49a24a7e"
          }
        },
        "c862e86222ae4c92b8e3d5c133c6985f": {
          "model_module": "@jupyter-widgets/controls",
          "model_module_version": "1.5.0",
          "model_name": "HTMLModel",
          "state": {
            "_dom_classes": [],
            "_model_module": "@jupyter-widgets/controls",
            "_model_module_version": "1.5.0",
            "_model_name": "HTMLModel",
            "_view_count": null,
            "_view_module": "@jupyter-widgets/controls",
            "_view_module_version": "1.5.0",
            "_view_name": "HTMLView",
            "description": "",
            "description_tooltip": null,
            "layout": "IPY_MODEL_cb9d2c395a1c4b239ccf8741fec4fcc0",
            "placeholder": "​",
            "style": "IPY_MODEL_975499915fee45f4ba8abbc05bcee347",
            "value": "100%"
          }
        },
        "cb9d2c395a1c4b239ccf8741fec4fcc0": {
          "model_module": "@jupyter-widgets/base",
          "model_module_version": "1.2.0",
          "model_name": "LayoutModel",
          "state": {
            "_model_module": "@jupyter-widgets/base",
            "_model_module_version": "1.2.0",
            "_model_name": "LayoutModel",
            "_view_count": null,
            "_view_module": "@jupyter-widgets/base",
            "_view_module_version": "1.2.0",
            "_view_name": "LayoutView",
            "align_content": null,
            "align_items": null,
            "align_self": null,
            "border": null,
            "bottom": null,
            "display": null,
            "flex": null,
            "flex_flow": null,
            "grid_area": null,
            "grid_auto_columns": null,
            "grid_auto_flow": null,
            "grid_auto_rows": null,
            "grid_column": null,
            "grid_gap": null,
            "grid_row": null,
            "grid_template_areas": null,
            "grid_template_columns": null,
            "grid_template_rows": null,
            "height": null,
            "justify_content": null,
            "justify_items": null,
            "left": null,
            "margin": null,
            "max_height": null,
            "max_width": null,
            "min_height": null,
            "min_width": null,
            "object_fit": null,
            "object_position": null,
            "order": null,
            "overflow": null,
            "overflow_x": null,
            "overflow_y": null,
            "padding": null,
            "right": null,
            "top": null,
            "visibility": null,
            "width": null
          }
        },
        "ea0b72bc56664efea0c1239c49a24a7e": {
          "model_module": "@jupyter-widgets/base",
          "model_module_version": "1.2.0",
          "model_name": "LayoutModel",
          "state": {
            "_model_module": "@jupyter-widgets/base",
            "_model_module_version": "1.2.0",
            "_model_name": "LayoutModel",
            "_view_count": null,
            "_view_module": "@jupyter-widgets/base",
            "_view_module_version": "1.2.0",
            "_view_name": "LayoutView",
            "align_content": null,
            "align_items": null,
            "align_self": null,
            "border": null,
            "bottom": null,
            "display": null,
            "flex": null,
            "flex_flow": null,
            "grid_area": null,
            "grid_auto_columns": null,
            "grid_auto_flow": null,
            "grid_auto_rows": null,
            "grid_column": null,
            "grid_gap": null,
            "grid_row": null,
            "grid_template_areas": null,
            "grid_template_columns": null,
            "grid_template_rows": null,
            "height": null,
            "justify_content": null,
            "justify_items": null,
            "left": null,
            "margin": null,
            "max_height": null,
            "max_width": null,
            "min_height": null,
            "min_width": null,
            "object_fit": null,
            "object_position": null,
            "order": null,
            "overflow": null,
            "overflow_x": null,
            "overflow_y": null,
            "padding": null,
            "right": null,
            "top": null,
            "visibility": null,
            "width": null
          }
        }
      }
    }
  },
  "nbformat": 4,
  "nbformat_minor": 0
}